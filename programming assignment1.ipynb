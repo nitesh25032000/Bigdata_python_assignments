{
 "cells": [
  {
   "cell_type": "markdown",
   "id": "3bf390c2-c250-41b3-8d40-cec37cf13278",
   "metadata": {},
   "source": [
    "1. Write a Python program to print &quot;Hello Python&quot;?"
   ]
  },
  {
   "cell_type": "code",
   "execution_count": null,
   "id": "3bbe7516-4f95-4d83-84fc-cd9ef22bcb55",
   "metadata": {},
   "outputs": [
    {
     "name": "stdout",
     "output_type": "stream",
     "text": [
      "Hello Python\n"
     ]
    }
   ],
   "source": [
    "a=\"Hello Python\"\n",
    "print(a)"
   ]
  },
  {
   "cell_type": "markdown",
   "id": "0aa2b42f-5a1c-4ba1-aa43-ba104f5733aa",
   "metadata": {},
   "source": [
    "2. Write a Python program to do arithmetical operations addition and division.?"
   ]
  },
  {
   "cell_type": "code",
   "execution_count": 4,
   "id": "78fbcfaf-549a-4bf2-9aac-f2fc26a322e3",
   "metadata": {},
   "outputs": [
    {
     "name": "stdin",
     "output_type": "stream",
     "text": [
      "enter the a value: 100\n",
      "enter the b value: 200\n"
     ]
    },
    {
     "name": "stdout",
     "output_type": "stream",
     "text": [
      "the addition is: 300 the division is: 0.5\n"
     ]
    }
   ],
   "source": [
    "a=int(input(\"enter the a value:\"))\n",
    "b=int(input(\"enter the b value:\"))\n",
    "c=a+b\n",
    "d=a/b\n",
    "print(\"the addition is:\",c,\"the division is:\",d)"
   ]
  },
  {
   "cell_type": "markdown",
   "id": "d8cf13d2-7449-428d-b7c8-ed7260510007",
   "metadata": {},
   "source": [
    "3. Write a Python program to find the area of a triangle?"
   ]
  },
  {
   "cell_type": "code",
   "execution_count": 9,
   "id": "0ac87dde-6874-449c-8162-f23e03e011fc",
   "metadata": {},
   "outputs": [
    {
     "name": "stdin",
     "output_type": "stream",
     "text": [
      "enter the height: 200\n",
      "enter the breadth: 30\n"
     ]
    },
    {
     "name": "stdout",
     "output_type": "stream",
     "text": [
      "the area is: 3000.0\n"
     ]
    }
   ],
   "source": [
    "height=int(input(\"enter the height:\"))\n",
    "breadth=int(input(\"enter the breadth:\"))\n",
    "area=0.5*height*breadth\n",
    "print(\"the area is:\",area)"
   ]
  },
  {
   "cell_type": "markdown",
   "id": "bfe52b9b-f916-4fa1-93b3-cc40fe6e0311",
   "metadata": {},
   "source": [
    "4. Write a Python program to swap two variables?"
   ]
  },
  {
   "cell_type": "code",
   "execution_count": 21,
   "id": "0c12c3e9-edb9-4ef2-821a-a426b6b4ca06",
   "metadata": {},
   "outputs": [
    {
     "name": "stdin",
     "output_type": "stream",
     "text": [
      "enter the x: 12\n",
      "enter the y: 14\n"
     ]
    },
    {
     "name": "stdout",
     "output_type": "stream",
     "text": [
      "the value of x and y after swapping is: 14 12\n"
     ]
    }
   ],
   "source": [
    "x=int(input(\"enter the x:\"))\n",
    "y=int(input(\"enter the y:\"))\n",
    "x,y=y,x\n",
    "print(\"the value of x and y after swapping is:\",x,y)"
   ]
  },
  {
   "cell_type": "markdown",
   "id": "9b37ce27-237c-4177-aac8-b12bd847f738",
   "metadata": {},
   "source": [
    "5. Write a Python program to generate a random number?"
   ]
  },
  {
   "cell_type": "code",
   "execution_count": 29,
   "id": "f1f88af2-aed6-40b4-b91c-27c9f3263974",
   "metadata": {},
   "outputs": [
    {
     "name": "stdout",
     "output_type": "stream",
     "text": [
      "479\n"
     ]
    }
   ],
   "source": [
    "import random\n",
    "print(random.randint(1,1000))"
   ]
  }
 ],
 "metadata": {
  "kernelspec": {
   "display_name": "Python 3 (ipykernel)",
   "language": "python",
   "name": "python3"
  },
  "language_info": {
   "codemirror_mode": {
    "name": "ipython",
    "version": 3
   },
   "file_extension": ".py",
   "mimetype": "text/x-python",
   "name": "python",
   "nbconvert_exporter": "python",
   "pygments_lexer": "ipython3",
   "version": "3.10.6"
  }
 },
 "nbformat": 4,
 "nbformat_minor": 5
}
